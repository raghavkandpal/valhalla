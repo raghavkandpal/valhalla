{
 "cells": [
  {
   "cell_type": "code",
   "execution_count": 28,
   "metadata": {},
   "outputs": [],
   "source": [
    "import numpy as np\n",
    "import pandas as pd"
   ]
  },
  {
   "cell_type": "code",
   "execution_count": 29,
   "metadata": {},
   "outputs": [],
   "source": [
    "dataset=pd.read_csv('unemp.csv')"
   ]
  },
  {
   "cell_type": "code",
   "execution_count": 30,
   "metadata": {},
   "outputs": [
    {
     "name": "stdout",
     "output_type": "stream",
     "text": [
      "           Country Name Country Code    2010       2011       2012    2013  \\\n",
      "0           Afghanistan          AFG  16.473  17.266001  16.618999  17.489   \n",
      "1  United Arab Emirates          ARE  10.998  10.276000   9.204000   8.299   \n",
      "2             Argentina          ARG  18.650  18.520000  18.490000  19.400   \n",
      "3                Bhutan          BTN   8.595   9.108000   6.981000   9.341   \n",
      "4                Canada          CAN  14.916  14.272000  14.442000  13.727   \n",
      "\n",
      "        2014    2015    2016       2017  \n",
      "0  17.871000  18.087  17.882  17.743999  \n",
      "1   7.282000   6.417   4.912   5.068000  \n",
      "2  18.309999  19.520  22.954  24.730000  \n",
      "3   9.209000  10.000  10.126  10.190000  \n",
      "4  13.448000  13.164  13.077  12.290000  \n"
     ]
    }
   ],
   "source": [
    "print(dataset.head())"
   ]
  },
  {
   "cell_type": "code",
   "execution_count": 31,
   "metadata": {},
   "outputs": [
    {
     "data": {
      "text/html": [
       "<div>\n",
       "<style scoped>\n",
       "    .dataframe tbody tr th:only-of-type {\n",
       "        vertical-align: middle;\n",
       "    }\n",
       "\n",
       "    .dataframe tbody tr th {\n",
       "        vertical-align: top;\n",
       "    }\n",
       "\n",
       "    .dataframe thead th {\n",
       "        text-align: right;\n",
       "    }\n",
       "</style>\n",
       "<table border=\"1\" class=\"dataframe\">\n",
       "  <thead>\n",
       "    <tr style=\"text-align: right;\">\n",
       "      <th></th>\n",
       "      <th>Country Name</th>\n",
       "      <th>Country Code</th>\n",
       "      <th>2010</th>\n",
       "      <th>2011</th>\n",
       "      <th>2012</th>\n",
       "      <th>2013</th>\n",
       "      <th>2014</th>\n",
       "      <th>2015</th>\n",
       "      <th>2016</th>\n",
       "      <th>2017</th>\n",
       "    </tr>\n",
       "  </thead>\n",
       "  <tbody>\n",
       "    <tr>\n",
       "      <th>0</th>\n",
       "      <td>Afghanistan</td>\n",
       "      <td>AFG</td>\n",
       "      <td>16.473</td>\n",
       "      <td>17.266001</td>\n",
       "      <td>16.618999</td>\n",
       "      <td>17.489</td>\n",
       "      <td>17.871000</td>\n",
       "      <td>18.087</td>\n",
       "      <td>17.882</td>\n",
       "      <td>17.743999</td>\n",
       "    </tr>\n",
       "    <tr>\n",
       "      <th>1</th>\n",
       "      <td>United Arab Emirates</td>\n",
       "      <td>ARE</td>\n",
       "      <td>10.998</td>\n",
       "      <td>10.276000</td>\n",
       "      <td>9.204000</td>\n",
       "      <td>8.299</td>\n",
       "      <td>7.282000</td>\n",
       "      <td>6.417</td>\n",
       "      <td>4.912</td>\n",
       "      <td>5.068000</td>\n",
       "    </tr>\n",
       "    <tr>\n",
       "      <th>2</th>\n",
       "      <td>Argentina</td>\n",
       "      <td>ARG</td>\n",
       "      <td>18.650</td>\n",
       "      <td>18.520000</td>\n",
       "      <td>18.490000</td>\n",
       "      <td>19.400</td>\n",
       "      <td>18.309999</td>\n",
       "      <td>19.520</td>\n",
       "      <td>22.954</td>\n",
       "      <td>24.730000</td>\n",
       "    </tr>\n",
       "    <tr>\n",
       "      <th>3</th>\n",
       "      <td>Bhutan</td>\n",
       "      <td>BTN</td>\n",
       "      <td>8.595</td>\n",
       "      <td>9.108000</td>\n",
       "      <td>6.981000</td>\n",
       "      <td>9.341</td>\n",
       "      <td>9.209000</td>\n",
       "      <td>10.000</td>\n",
       "      <td>10.126</td>\n",
       "      <td>10.190000</td>\n",
       "    </tr>\n",
       "    <tr>\n",
       "      <th>4</th>\n",
       "      <td>Canada</td>\n",
       "      <td>CAN</td>\n",
       "      <td>14.916</td>\n",
       "      <td>14.272000</td>\n",
       "      <td>14.442000</td>\n",
       "      <td>13.727</td>\n",
       "      <td>13.448000</td>\n",
       "      <td>13.164</td>\n",
       "      <td>13.077</td>\n",
       "      <td>12.290000</td>\n",
       "    </tr>\n",
       "    <tr>\n",
       "      <th>5</th>\n",
       "      <td>India</td>\n",
       "      <td>IND</td>\n",
       "      <td>10.149</td>\n",
       "      <td>10.252000</td>\n",
       "      <td>10.616000</td>\n",
       "      <td>10.077</td>\n",
       "      <td>10.029000</td>\n",
       "      <td>10.360</td>\n",
       "      <td>10.468</td>\n",
       "      <td>10.543000</td>\n",
       "    </tr>\n",
       "  </tbody>\n",
       "</table>\n",
       "</div>"
      ],
      "text/plain": [
       "           Country Name Country Code    2010       2011       2012    2013  \\\n",
       "0           Afghanistan          AFG  16.473  17.266001  16.618999  17.489   \n",
       "1  United Arab Emirates          ARE  10.998  10.276000   9.204000   8.299   \n",
       "2             Argentina          ARG  18.650  18.520000  18.490000  19.400   \n",
       "3                Bhutan          BTN   8.595   9.108000   6.981000   9.341   \n",
       "4                Canada          CAN  14.916  14.272000  14.442000  13.727   \n",
       "5                 India          IND  10.149  10.252000  10.616000  10.077   \n",
       "\n",
       "        2014    2015    2016       2017  \n",
       "0  17.871000  18.087  17.882  17.743999  \n",
       "1   7.282000   6.417   4.912   5.068000  \n",
       "2  18.309999  19.520  22.954  24.730000  \n",
       "3   9.209000  10.000  10.126  10.190000  \n",
       "4  13.448000  13.164  13.077  12.290000  \n",
       "5  10.029000  10.360  10.468  10.543000  "
      ]
     },
     "execution_count": 31,
     "metadata": {},
     "output_type": "execute_result"
    }
   ],
   "source": [
    "df=pd.DataFrame(dataset)\n",
    "df"
   ]
  },
  {
   "cell_type": "code",
   "execution_count": 32,
   "metadata": {},
   "outputs": [
    {
     "name": "stdout",
     "output_type": "stream",
     "text": [
      "0    17.743999\n",
      "1     5.068000\n",
      "2    24.730000\n",
      "3    10.190000\n",
      "4    12.290000\n",
      "5    10.543000\n",
      "Name: 2017, dtype: float64\n"
     ]
    }
   ],
   "source": [
    "print(df['2017'])"
   ]
  },
  {
   "cell_type": "code",
   "execution_count": 33,
   "metadata": {},
   "outputs": [],
   "source": [
    "from sklearn.utils import shuffle"
   ]
  },
  {
   "cell_type": "code",
   "execution_count": 34,
   "metadata": {},
   "outputs": [],
   "source": [
    "df = shuffle(df)"
   ]
  },
  {
   "cell_type": "code",
   "execution_count": 35,
   "metadata": {},
   "outputs": [
    {
     "data": {
      "text/html": [
       "<div>\n",
       "<style scoped>\n",
       "    .dataframe tbody tr th:only-of-type {\n",
       "        vertical-align: middle;\n",
       "    }\n",
       "\n",
       "    .dataframe tbody tr th {\n",
       "        vertical-align: top;\n",
       "    }\n",
       "\n",
       "    .dataframe thead th {\n",
       "        text-align: right;\n",
       "    }\n",
       "</style>\n",
       "<table border=\"1\" class=\"dataframe\">\n",
       "  <thead>\n",
       "    <tr style=\"text-align: right;\">\n",
       "      <th></th>\n",
       "      <th>Country Name</th>\n",
       "      <th>Country Code</th>\n",
       "      <th>2010</th>\n",
       "      <th>2011</th>\n",
       "      <th>2012</th>\n",
       "      <th>2013</th>\n",
       "      <th>2014</th>\n",
       "      <th>2015</th>\n",
       "      <th>2016</th>\n",
       "      <th>2017</th>\n",
       "    </tr>\n",
       "  </thead>\n",
       "  <tbody>\n",
       "    <tr>\n",
       "      <th>0</th>\n",
       "      <td>Afghanistan</td>\n",
       "      <td>AFG</td>\n",
       "      <td>16.473</td>\n",
       "      <td>17.266001</td>\n",
       "      <td>16.618999</td>\n",
       "      <td>17.489</td>\n",
       "      <td>17.871000</td>\n",
       "      <td>18.087</td>\n",
       "      <td>17.882</td>\n",
       "      <td>17.743999</td>\n",
       "    </tr>\n",
       "    <tr>\n",
       "      <th>2</th>\n",
       "      <td>Argentina</td>\n",
       "      <td>ARG</td>\n",
       "      <td>18.650</td>\n",
       "      <td>18.520000</td>\n",
       "      <td>18.490000</td>\n",
       "      <td>19.400</td>\n",
       "      <td>18.309999</td>\n",
       "      <td>19.520</td>\n",
       "      <td>22.954</td>\n",
       "      <td>24.730000</td>\n",
       "    </tr>\n",
       "    <tr>\n",
       "      <th>3</th>\n",
       "      <td>Bhutan</td>\n",
       "      <td>BTN</td>\n",
       "      <td>8.595</td>\n",
       "      <td>9.108000</td>\n",
       "      <td>6.981000</td>\n",
       "      <td>9.341</td>\n",
       "      <td>9.209000</td>\n",
       "      <td>10.000</td>\n",
       "      <td>10.126</td>\n",
       "      <td>10.190000</td>\n",
       "    </tr>\n",
       "    <tr>\n",
       "      <th>5</th>\n",
       "      <td>India</td>\n",
       "      <td>IND</td>\n",
       "      <td>10.149</td>\n",
       "      <td>10.252000</td>\n",
       "      <td>10.616000</td>\n",
       "      <td>10.077</td>\n",
       "      <td>10.029000</td>\n",
       "      <td>10.360</td>\n",
       "      <td>10.468</td>\n",
       "      <td>10.543000</td>\n",
       "    </tr>\n",
       "    <tr>\n",
       "      <th>4</th>\n",
       "      <td>Canada</td>\n",
       "      <td>CAN</td>\n",
       "      <td>14.916</td>\n",
       "      <td>14.272000</td>\n",
       "      <td>14.442000</td>\n",
       "      <td>13.727</td>\n",
       "      <td>13.448000</td>\n",
       "      <td>13.164</td>\n",
       "      <td>13.077</td>\n",
       "      <td>12.290000</td>\n",
       "    </tr>\n",
       "    <tr>\n",
       "      <th>1</th>\n",
       "      <td>United Arab Emirates</td>\n",
       "      <td>ARE</td>\n",
       "      <td>10.998</td>\n",
       "      <td>10.276000</td>\n",
       "      <td>9.204000</td>\n",
       "      <td>8.299</td>\n",
       "      <td>7.282000</td>\n",
       "      <td>6.417</td>\n",
       "      <td>4.912</td>\n",
       "      <td>5.068000</td>\n",
       "    </tr>\n",
       "  </tbody>\n",
       "</table>\n",
       "</div>"
      ],
      "text/plain": [
       "           Country Name Country Code    2010       2011       2012    2013  \\\n",
       "0           Afghanistan          AFG  16.473  17.266001  16.618999  17.489   \n",
       "2             Argentina          ARG  18.650  18.520000  18.490000  19.400   \n",
       "3                Bhutan          BTN   8.595   9.108000   6.981000   9.341   \n",
       "5                 India          IND  10.149  10.252000  10.616000  10.077   \n",
       "4                Canada          CAN  14.916  14.272000  14.442000  13.727   \n",
       "1  United Arab Emirates          ARE  10.998  10.276000   9.204000   8.299   \n",
       "\n",
       "        2014    2015    2016       2017  \n",
       "0  17.871000  18.087  17.882  17.743999  \n",
       "2  18.309999  19.520  22.954  24.730000  \n",
       "3   9.209000  10.000  10.126  10.190000  \n",
       "5  10.029000  10.360  10.468  10.543000  \n",
       "4  13.448000  13.164  13.077  12.290000  \n",
       "1   7.282000   6.417   4.912   5.068000  "
      ]
     },
     "execution_count": 35,
     "metadata": {},
     "output_type": "execute_result"
    }
   ],
   "source": [
    "df"
   ]
  },
  {
   "cell_type": "code",
   "execution_count": 36,
   "metadata": {},
   "outputs": [],
   "source": [
    "x=df['Country Code']"
   ]
  },
  {
   "cell_type": "code",
   "execution_count": 37,
   "metadata": {},
   "outputs": [],
   "source": [
    "y=df['2017']"
   ]
  },
  {
   "cell_type": "code",
   "execution_count": 38,
   "metadata": {},
   "outputs": [],
   "source": [
    "from matplotlib import pyplot as plt"
   ]
  },
  {
   "cell_type": "code",
   "execution_count": 39,
   "metadata": {},
   "outputs": [
    {
     "data": {
      "text/plain": [
       "[<matplotlib.lines.Line2D at 0x2657d72d518>]"
      ]
     },
     "execution_count": 39,
     "metadata": {},
     "output_type": "execute_result"
    },
    {
     "data": {
      "image/png": "[encoded data removed]",
      "text/plain": [
       "<Figure size 432x288 with 1 Axes>"
      ]
     },
     "metadata": {},
     "output_type": "display_data"
    }
   ],
   "source": [
    "plt.plot(x,y)"
   ]
  },
  {
   "cell_type": "code",
   "execution_count": null,
   "metadata": {},
   "outputs": [],
   "source": []
  },
  {
   "cell_type": "code",
   "execution_count": null,
   "metadata": {},
   "outputs": [],
   "source": []
  },
  {
   "cell_type": "code",
   "execution_count": null,
   "metadata": {},
   "outputs": [],
   "source": []
  },
  {
   "cell_type": "code",
   "execution_count": null,
   "metadata": {},
   "outputs": [],
   "source": []
  }
 ],
 "metadata": {
  "kernelspec": {
   "display_name": "Python 3",
   "language": "python",
   "name": "python3"
  },
  "language_info": {
   "codemirror_mode": {
    "name": "ipython",
    "version": 3
   },
   "file_extension": ".py",
   "mimetype": "text/x-python",
   "name": "python",
   "nbconvert_exporter": "python",
   "pygments_lexer": "ipython3",
   "version": "3.6.5"
  }
 },
 "nbformat": 4,
 "nbformat_minor": 2
}
